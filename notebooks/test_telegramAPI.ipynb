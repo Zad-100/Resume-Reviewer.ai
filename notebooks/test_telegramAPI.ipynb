{
 "cells": [
  {
   "cell_type": "code",
   "execution_count": 3,
   "metadata": {},
   "outputs": [],
   "source": [
    "import os\n",
    "\n",
    "from dotenv import find_dotenv, load_dotenv\n",
    "import pdfplumber\n",
    "from telegram import Bot, Update\n",
    "from telegram.ext import CommandHandler, Filters, MessageHandler, Updater\n",
    "\n",
    "# Load environment variables\n",
    "_ = load_dotenv(find_dotenv()) # read local .env file\n",
    "\n",
    "# Set up telegram's bot token\n",
    "BOT_TOKEN = os.getenv(\"TELEGRAM_BOT_TOKEN\")\n",
    "\n",
    "# Set up owner chat id\n",
    "OWNER_CHAT_ID = os.getenv(\"OWNER_CHAT_ID\")"
   ]
  },
  {
   "cell_type": "code",
   "execution_count": 7,
   "metadata": {},
   "outputs": [],
   "source": [
    "def start(update: Update, context: Bot) -> None:\n",
    "    \"\"\"Send a message when the command /start is issued.\"\"\"\n",
    "\n",
    "    # Greet the user and introduce the bot\n",
    "    update.message.reply_text(\n",
    "        \"\"\"\\\n",
    "Hello! I am Resume Reviewer Bot. I am here to help you with your resume. \\\n",
    "Simply send me your resume in PDF format and I will review it for you. I shall \\\n",
    "provide you with feedback on how you can improve your resume.\\\n",
    "\"\"\"\n",
    "    )\n",
    "\n",
    "\n",
    "def forward_convo_to_owner(\n",
    "    update: Update,\n",
    "    user_text: str,\n",
    "    bot_response: str,\n",
    "    context: Bot\n",
    ") -> None:\n",
    "    \"\"\"\n",
    "    Forward the conversations to the owner of the bot in real-time like logs\n",
    "    \"\"\"\n",
    "\n",
    "    # Forward the conversation to the owner of the bot\n",
    "    user_firstName = update.message.from_user.first_name\n",
    "    conversation = f\"\"\"\\\n",
    "********************************\n",
    "{user_firstName}: {user_text}\n",
    "\n",
    "ResumeReviewer_Bot: {bot_response}\n",
    "********************************\\\n",
    "\"\"\"\n",
    "    \n",
    "    context.bot.send_message(chat_id=OWNER_CHAT_ID, text=conversation)\n",
    "\n",
    "    \n",
    "def extract_text_from_pdf(file_path):\n",
    "    with pdfplumber.open(file_path) as pdf:\n",
    "        text = \"\"\n",
    "        for page in pdf.pages:\n",
    "            text += page.extract_text()\n",
    "\n",
    "    return text\n",
    "    \n",
    "def handle_pdf(update, context):\n",
    "    file_id = update.message.document.file_id\n",
    "    \n",
    "    file = context.bot.get_file(file_id)\n",
    "    \n",
    "    file.download('input_resume.pdf')\n",
    "    \n",
    "    text = extract_text_from_pdf('input_resume.pdf')\n",
    "    \n",
    "    update.message.reply_text(text)"
   ]
  },
  {
   "cell_type": "code",
   "execution_count": 8,
   "metadata": {},
   "outputs": [],
   "source": [
    "def main():\n",
    "    updater = Updater(token=BOT_TOKEN, use_context=True)\n",
    "    dp = updater.dispatcher\n",
    "\n",
    "    # Handlers\n",
    "    dp.add_handler(CommandHandler(\"start\", start))\n",
    "    dp.add_handler(MessageHandler(Filters.document.mime_type(\"application/pdf\"), handle_pdf))\n",
    "    \n",
    "    # Print a message to the terminal to indicate that the bot is starting\n",
    "    print(\"ResumeReviewer_Bot is now running and listening for updates...\\n\\n\")\n",
    "    \n",
    "    # Start the bot\n",
    "    updater.start_polling()\n",
    "    updater.idle()"
   ]
  },
  {
   "cell_type": "code",
   "execution_count": 9,
   "metadata": {},
   "outputs": [
    {
     "name": "stdout",
     "output_type": "stream",
     "text": [
      "ResumeReviewer_Bot is now running and listening for updates...\n",
      "\n",
      "\n"
     ]
    }
   ],
   "source": [
    "main()"
   ]
  },
  {
   "cell_type": "code",
   "execution_count": null,
   "metadata": {},
   "outputs": [],
   "source": []
  }
 ],
 "metadata": {
  "kernelspec": {
   "display_name": "rra_env",
   "language": "python",
   "name": "python3"
  },
  "language_info": {
   "codemirror_mode": {
    "name": "ipython",
    "version": 3
   },
   "file_extension": ".py",
   "mimetype": "text/x-python",
   "name": "python",
   "nbconvert_exporter": "python",
   "pygments_lexer": "ipython3",
   "version": "3.10.13"
  }
 },
 "nbformat": 4,
 "nbformat_minor": 2
}
