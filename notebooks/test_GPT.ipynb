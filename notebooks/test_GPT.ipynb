{
 "cells": [
  {
   "cell_type": "code",
   "execution_count": 1,
   "metadata": {},
   "outputs": [
    {
     "name": "stdout",
     "output_type": "stream",
     "text": [
      "hello, em a snake but a friendly one!\n"
     ]
    }
   ],
   "source": [
    "print(\"hello, em a snake but a friendly one!\")"
   ]
  },
  {
   "cell_type": "code",
   "execution_count": 2,
   "metadata": {},
   "outputs": [],
   "source": [
    "# great!"
   ]
  },
  {
   "cell_type": "code",
   "execution_count": 2,
   "metadata": {},
   "outputs": [],
   "source": [
    "# Import the required packages\n",
    "import os\n",
    "from openai import OpenAI\n",
    "\n",
    "from dotenv import load_dotenv, find_dotenv\n",
    "_ = load_dotenv(find_dotenv()) # read local .env file\n",
    "\n",
    "client = OpenAI(\n",
    "  api_key=os.getenv(\"OPENAI_API_KEY\"),\n",
    ")"
   ]
  },
  {
   "cell_type": "code",
   "execution_count": 7,
   "metadata": {},
   "outputs": [],
   "source": [
    "def getResponse(prompt, model=\"gpt-3.5-turbo\"):\n",
    "    messages = [{\"role\": \"user\", \"content\": prompt}]\n",
    "    completion = client.chat.completions.create(\n",
    "        model=model,\n",
    "        messages=messages,\n",
    "    )\n",
    "    return completion.choices[0].message"
   ]
  },
  {
   "cell_type": "code",
   "execution_count": null,
   "metadata": {},
   "outputs": [],
   "source": [
    "# Test if OpenAI API is working\n",
    "prompt = \"Knock, knock! Who? Cindy. Cindy who?\"\n",
    "response = getResponse(prompt)\n",
    "print(response)"
   ]
  },
  {
   "cell_type": "code",
   "execution_count": 5,
   "metadata": {},
   "outputs": [
    {
     "name": "stdout",
     "output_type": "stream",
     "text": [
      ".\n"
     ]
    }
   ],
   "source": [
    "import logging\n",
    "import os\n",
    "\n",
    "\n",
    "PROJECT_ROOT = os.curdir\n",
    "print(PROJECT_ROOT)\n",
    "LOGS_DIR = os.path.join(PROJECT_ROOT, \"logs\")\n",
    "# Create the logs directory if it does not exist\n",
    "os.makedirs(LOGS_DIR, exist_ok=True)\n",
    "LOGS_FILE = os.path.join(LOGS_DIR, \"app.log\")\n",
    "with open(LOGS_FILE, \"w\") as f:\n",
    "    pass\n",
    "\n",
    "# Configure logging\n",
    "logging.basicConfig(\n",
    "    level=logging.DEBUG,  # Set the root logger level to DEBUG\n",
    "    format=\"\"\"%(asctime)s \\\n",
    "- %(name)s - %(levelname)s - %(funcName)s:%(lineno)d - %(message)s\"\"\",\n",
    "    datefmt='%Y-%m-%d %H:%M:%S',  # Date format\n",
    "    filename=LOGS_FILE,  # Log file\n",
    "    filemode='a'  # Append mode\n",
    ")\n",
    "\n",
    "logger = logging.getLogger(__name__)\n",
    "\n",
    "logger.info(\"Logging is configured!\")\n",
    "logger.warning(\"This is a warning message\")\n",
    "logger.error(\"This is an error message\")"
   ]
  },
  {
   "cell_type": "code",
   "execution_count": 1,
   "metadata": {},
   "outputs": [
    {
     "name": "stderr",
     "output_type": "stream",
     "text": [
      "/workspaces/Resume-Reviewer.ai/rra_env/lib/python3.10/site-packages/tqdm/auto.py:21: TqdmWarning: IProgress not found. Please update jupyter and ipywidgets. See https://ipywidgets.readthedocs.io/en/stable/user_install.html\n",
      "  from .autonotebook import tqdm as notebook_tqdm\n"
     ]
    }
   ],
   "source": [
    "import pathlib\n",
    "import textwrap\n",
    "\n",
    "import google.generativeai as genai\n",
    "\n",
    "from IPython.display import display\n",
    "from IPython.display import Markdown\n",
    "\n",
    "\n",
    "def to_markdown(text):\n",
    "  text = text.replace('•', '  *')\n",
    "  return Markdown(textwrap.indent(text, '> ', predicate=lambda _: True))"
   ]
  },
  {
   "cell_type": "code",
   "execution_count": 3,
   "metadata": {},
   "outputs": [],
   "source": [
    "genai.configure(api_key=os.getenv(\"GOOGLE_API_KEY\"))"
   ]
  },
  {
   "cell_type": "code",
   "execution_count": 4,
   "metadata": {},
   "outputs": [
    {
     "data": {
      "text/markdown": [
       "> The meaning of life is a deeply philosophical question that has been pondered by humans for centuries. There is no one definitive answer, as the meaning of life is often personal and subjective. However, some common themes that emerge in discussions about the meaning of life include:\n",
       "> \n",
       "> * **Purpose**: Many people believe that life has a purpose or goal, whether that is to find happiness, achieve success, or make a difference in the world.\n",
       "> * **Connection**: Others believe that the meaning of life is found in our relationships with others, and that we are meant to love and be loved.\n",
       "> * **Growth**: Some people believe that the meaning of life is to grow and learn, both intellectually and spiritually.\n",
       "> * **Contribution**: Others believe that the meaning of life is to make a contribution to society or the world, whether through our work, our volunteerism, or our art.\n",
       "> \n",
       "> Ultimately, the meaning of life is something that each individual must decide for themselves. There is no right or wrong answer, and what is meaningful to one person may not be meaningful to another. However, by exploring the different perspectives on the meaning of life, we can come to a deeper understanding of ourselves and our place in the world.\n",
       "> \n",
       "> Here are some additional thoughts on the meaning of life:\n",
       "> \n",
       "> * The meaning of life is not something that can be found once and for all. It is an ongoing journey that changes and evolves as we grow and change.\n",
       "> * The meaning of life is not something that is always easy to find. It can take time, effort, and reflection to discover what is truly meaningful to us.\n",
       "> * The meaning of life is not something that we can find on our own. We need the help and support of others to find our way.\n",
       "> \n",
       "> If you are struggling to find meaning in your life, there are a few things you can do:\n",
       "> \n",
       "> * Talk to a trusted friend, family member, or therapist about your feelings.\n",
       "> * Explore different activities and hobbies to see what brings you joy.\n",
       "> * Volunteer your time to a cause that you care about.\n",
       "> * Read books and articles about the meaning of life.\n",
       "> * Meditate or pray to connect with your inner self.\n",
       "> \n",
       "> Finding the meaning of life is not always easy, but it is a journey that is worth taking. By exploring the different perspectives on the meaning of life, and by reflecting on our own experiences, we can come to a deeper understanding of ourselves and our place in the world."
      ],
      "text/plain": [
       "<IPython.core.display.Markdown object>"
      ]
     },
     "execution_count": 4,
     "metadata": {},
     "output_type": "execute_result"
    }
   ],
   "source": [
    "model = genai.GenerativeModel('gemini-pro')\n",
    "response = model.generate_content(\"What is the meaning of life?\")\n",
    "to_markdown(response.text)"
   ]
  },
  {
   "cell_type": "code",
   "execution_count": 10,
   "metadata": {},
   "outputs": [],
   "source": [
    "import pdfplumber\n",
    "\n",
    "def extract_text_from_pdf(file_path):\n",
    "    with pdfplumber.open(file_path) as pdf:\n",
    "        text = \"\"\n",
    "        for page in pdf.pages:\n",
    "            text += page.extract_text()\n",
    "\n",
    "    return text"
   ]
  },
  {
   "cell_type": "code",
   "execution_count": 11,
   "metadata": {},
   "outputs": [
    {
     "data": {
      "text/plain": [
       "'Akash Parida\\nIT Engineer\\nPython-savvy, proactive undergraduate with hands-on AI/ML experience; always on my toes for impactful challenges and continuous learning\\nEDUCATION\\nakash2001parida@gmail.com\\nBTech in Information Technology\\nInternational Institute of Information Technology (IIIT), Bhubaneswar\\n7250794009\\n12/2020 - Present, 8.02 CGPA till 6th Semester\\nIntermediate in Science (10+2)\\nBhubaneswar, India\\nDelhi Public School (DPS), Bokaro\\n03/2018 - 03/2020, 94.2% in Boards, Bokaro Steel City\\nlinkedin.com/in/akash-parida-\\n153788208\\nPERSONAL PROJECTS\\ngithub.com/Zad-100\\nMedibot (Bajaj HackRx 4.0, 2023) (07/2023)\\nFormulated MediBot - answers medical queries based on credible sources such as CDC, NHS, WebMD, etc. along with\\nSKILLS citations of the source the answer was based on with 87% accuracy\\nLeveraged vector database (ChromaDB) to store about 300 articles and used meta-data filtering to fetch results\\nCollaborated over Figma to design the UI of the web app, in 3 design iterations\\nPython ML/DL\\nPasscode Hunt Game (08/2023)\\nEngineered personalised Django based web-app (optimised for mobile experience) with PostgreSQL, featuring 3\\nDjango C++\\nunique puzzles, including slider puzzle, crossword; solving each gets user a digit of the passcode to unlock gift box\\nDesigned and implemented 5 distinct interactive web pages, including login page\\nOpenAI API Oversaw end-to-end development from initial specs and design to deployment on Azure; fully functional as expected\\nDrowsiness Detection System (08/2023)\\nGit/GitHub Developed Convolutional Neural Network (CNN) model, achieving a test accuracy of 96.11%\\nImplemented data preprocessing techniques on dataset of over 8,000 images to improve model performance\\nAdaptability Learner Also, orchestrated real-time system using OpenCV, DLib, using EAR to detect drowsiness achieving test 97% accuracy\\nCommunication\\nWORK EXPERIENCE\\nTeamwork Patience\\nMachine Learning Intern\\nDatence Technologies\\n09/2023 - Present, Remote\\nDatence Tech provides AI-driven data compliance. \"PAC MAN\" offers privacy insights; \"PolyWiz\" crafts app policies fast.\\nLANGUAGES\\nAchievements/Tasks\\nAssigned to PAC Man project - bolstered experimentation with 2 LLM models: mpt-7b and llama-2-7b-\\nEnglish\\nchat, fine-tuned them using peft and wrapped LangChain to make inference based on private database\\nFull Professional Proficiency\\nGathered and build dataset for 2-class-sequence-classification (privacy related or not) by fine-tuning\\nHindi RoBERTa using PyTorch and Transformers\\nNative or Bilingual Proficiency Architected robust backend in Django, well-structured, modular, and well-documented; managing more\\nthan 2 apps for different functions of same project\\nOdia\\nIntegrated seamlessly with Azure Dev-Ops team to deploy the backend server with 2 worker instances\\nNative or Bilingual Proficiency\\nRefined and crafted prompts, enhancing response quality and accuracy by 75%\\nAI/ML Intern\\nINTERESTS\\nFlamon CloudTech Pvt. Ltd.\\n06/2023 - 07/2023, Remote\\nRunning Telecalling app that has amazing sales automation features such as autodialler, smart follow-ups, call recording, etc.\\nAchievements/Tasks\\nPoetry & Creative Writing Prompt-engineered gift recommendation chatbot leveraging GPT-3.5-Turbo, tested with over 25\\ninteractions\\nReading Music/Songs Assisted Full Stack team of 3 in integrating chatbot engine with backend using Django\\nWorking-out & Fitness\\nACHIEVEMENTS\\nMeditation\\nBajaj HackRx 4.0 Grand Finalist (07/2023)'"
      ]
     },
     "execution_count": 11,
     "metadata": {},
     "output_type": "execute_result"
    }
   ],
   "source": [
    "text = extract_text_from_pdf(\"input_resume.pdf\")\n",
    "\n",
    "text"
   ]
  },
  {
   "cell_type": "code",
   "execution_count": 14,
   "metadata": {},
   "outputs": [],
   "source": [
    "prompt = f\"\"\"\\\n",
    "You are a professional hiring manager tasked with reviewing a resume. \\\n",
    "Your goal is to provide comprehensive feedback on the content of the resume \\\n",
    "to help the candidate improve their chances of securing a job interview. \\\n",
    "Your review should analyze various aspects of the resume, including its \\\n",
    "structure, clarity, relevance, and completeness. Additionally, provide \\\n",
    "constructive criticism and suggestions for areas of improvement, such as \\\n",
    "formatting, language, skills presentation, and overall presentation. Your \\\n",
    "feedback should be detailed and tailored to help the candidate showcase \\\n",
    "their qualifications and experiences effectively. Please ensure your \\\n",
    "feedback is professional, respectful, and aimed at assisting the candidate \\\n",
    "in presenting their best self to potential employers.\n",
    "\n",
    "Here's the resume content extracted from the PDF, delimited by a \\\n",
    "square brackets below:\n",
    "[\n",
    "{text}\n",
    "]\n",
    "\"\"\""
   ]
  },
  {
   "cell_type": "code",
   "execution_count": 15,
   "metadata": {},
   "outputs": [
    {
     "data": {
      "text/markdown": [
       "> **Overall Structure and Presentation**\n",
       "> \n",
       "> * The resume presents a concise overview of your qualifications and experience.\n",
       "> * The use of bullet points and clear section headings improves readability.\n",
       "> * Consider adding a professional summary or objective statement at the top to highlight your career goals and value proposition.\n",
       "> \n",
       "> **Content and Relevance**\n",
       "> \n",
       "> * Your skills and experience align well with the job requirements of an IT Engineer.\n",
       "> * Quantifying your achievements with specific metrics (e.g., \"developed Convolutional Neural Network (CNN) model, achieving a test accuracy of 96.11%\") strengthens your resume.\n",
       "> * Consider highlighting additional technical projects or work experience that showcase your Python, AI/ML, and Django skills.\n",
       "> \n",
       "> **Formatting and Language**\n",
       "> \n",
       "> * The resume has a clean and professional design.\n",
       "> * Use consistent formatting throughout, especially for dates and project descriptions.\n",
       "> * Proofread carefully for any grammatical errors or typos.\n",
       "> \n",
       "> **Specific Feedback**\n",
       "> \n",
       "> * **Personal Projects:**\n",
       ">     * Provide more detail on the impact and outcomes of your projects.\n",
       ">     * Consider quantifying the results of your Medibot project, such as the number of users or queries handled.\n",
       "> * **Work Experience:**\n",
       ">     * Highlight your specific contributions and responsibilities within each role.\n",
       ">     * Use action verbs to describe your accomplishments (e.g., \"developed\" instead of \"helped develop\").\n",
       "> * **Skills:**\n",
       ">     * Group similar skills together for better organization.\n",
       ">     * Consider using a more concise format for presenting your skills.\n",
       "> * **Interests:**\n",
       ">     * While it's good to display your interests, consider removing any that are not directly relevant to the job you're applying for.\n",
       "> \n",
       "> **Additional Suggestions**\n",
       "> \n",
       "> * Include a link to your LinkedIn profile or online portfolio to showcase your work and connect with potential employers.\n",
       "> * Consider using a resume builder or consulting a professional resume writer for additional feedback and polishing.\n",
       "> * Tailor your resume specifically to each job application, highlighting the skills and experience that are most relevant to the position."
      ],
      "text/plain": [
       "<IPython.core.display.Markdown object>"
      ]
     },
     "execution_count": 15,
     "metadata": {},
     "output_type": "execute_result"
    }
   ],
   "source": [
    "response = model.generate_content(prompt)\n",
    "to_markdown(response.text)"
   ]
  },
  {
   "cell_type": "code",
   "execution_count": 17,
   "metadata": {},
   "outputs": [
    {
     "name": "stdout",
     "output_type": "stream",
     "text": [
      "**Overall Structure and Presentation**\n",
      "\n",
      "* The resume presents a concise overview of your qualifications and experience.\n",
      "* The use of bullet points and clear section headings improves readability.\n",
      "* Consider adding a professional summary or objective statement at the top to highlight your career goals and value proposition.\n",
      "\n",
      "**Content and Relevance**\n",
      "\n",
      "* Your skills and experience align well with the job requirements of an IT Engineer.\n",
      "* Quantifying your achievements with specific metrics (e.g., \"developed Convolutional Neural Network (CNN) model, achieving a test accuracy of 96.11%\") strengthens your resume.\n",
      "* Consider highlighting additional technical projects or work experience that showcase your Python, AI/ML, and Django skills.\n",
      "\n",
      "**Formatting and Language**\n",
      "\n",
      "* The resume has a clean and professional design.\n",
      "* Use consistent formatting throughout, especially for dates and project descriptions.\n",
      "* Proofread carefully for any grammatical errors or typos.\n",
      "\n",
      "**Specific Feedback**\n",
      "\n",
      "* **Personal Projects:**\n",
      "    * Provide more detail on the impact and outcomes of your projects.\n",
      "    * Consider quantifying the results of your Medibot project, such as the number of users or queries handled.\n",
      "* **Work Experience:**\n",
      "    * Highlight your specific contributions and responsibilities within each role.\n",
      "    * Use action verbs to describe your accomplishments (e.g., \"developed\" instead of \"helped develop\").\n",
      "* **Skills:**\n",
      "    * Group similar skills together for better organization.\n",
      "    * Consider using a more concise format for presenting your skills.\n",
      "* **Interests:**\n",
      "    * While it's good to display your interests, consider removing any that are not directly relevant to the job you're applying for.\n",
      "\n",
      "**Additional Suggestions**\n",
      "\n",
      "* Include a link to your LinkedIn profile or online portfolio to showcase your work and connect with potential employers.\n",
      "* Consider using a resume builder or consulting a professional resume writer for additional feedback and polishing.\n",
      "* Tailor your resume specifically to each job application, highlighting the skills and experience that are most relevant to the position.\n"
     ]
    }
   ],
   "source": [
    "print(response.text)"
   ]
  },
  {
   "cell_type": "code",
   "execution_count": null,
   "metadata": {},
   "outputs": [],
   "source": []
  }
 ],
 "metadata": {
  "kernelspec": {
   "display_name": ".venv",
   "language": "python",
   "name": "python3"
  },
  "language_info": {
   "codemirror_mode": {
    "name": "ipython",
    "version": 3
   },
   "file_extension": ".py",
   "mimetype": "text/x-python",
   "name": "python",
   "nbconvert_exporter": "python",
   "pygments_lexer": "ipython3",
   "version": "3.10.13"
  }
 },
 "nbformat": 4,
 "nbformat_minor": 2
}
